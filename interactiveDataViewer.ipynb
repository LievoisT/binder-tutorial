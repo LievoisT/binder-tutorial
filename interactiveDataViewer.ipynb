{
 "cells": [
  {
   "cell_type": "code",
   "execution_count": 3,
   "metadata": {},
   "outputs": [],
   "source": [
    "import pandas as pd\n",
    "import numpy as np\n",
    "import ipywidgets as widgets\n",
    "import bqplot as bq\n",
    "import bqplot.pyplot as plt"
   ]
  },
  {
   "cell_type": "code",
   "execution_count": null,
   "metadata": {
    "pycharm": {
     "is_executing": true
    }
   },
   "outputs": [],
   "source": [
    "df = pd.read_pickle('mergedDataFrame.pkl')\n",
    "testNames = df['test_period'].unique()[1:]\n",
    "testNames"
   ]
  },
  {
   "cell_type": "code",
   "execution_count": 5,
   "metadata": {},
   "outputs": [
    {
     "data": {
      "text/plain": "VBox(children=(HBox(children=(Dropdown(description='Test', options=('Field_1', 'Field_2', 'Wall', 'Sky'), valu…",
      "application/vnd.jupyter.widget-view+json": {
       "version_major": 2,
       "version_minor": 0,
       "model_id": "7c60c12e65e34d5fb3514655741b5705"
      }
     },
     "execution_count": 5,
     "metadata": {},
     "output_type": "execute_result"
    }
   ],
   "source": [
    "x_dropdown = widgets.Dropdown(description='Test', options=testNames, value='Field_1')\n",
    "y_dropdown = widgets.Dropdown(\n",
    "    description='Feature',\n",
    "    options=['R2', 'R3', 'R2v', 'R3v'],\n",
    "    value='R2'\n",
    ")\n",
    "\n",
    "x_ticker = x_dropdown.value\n",
    "y_ticker = y_dropdown.value\n",
    "\n",
    "sel_cols = [y_ticker+'_2', y_ticker+'_3']\n",
    "sel_data = df.loc[df['test_period'] == x_dropdown.value, sel_cols]\n",
    "\n",
    "fig_margin = dict(top=20, bottom=40, left=60, right=80)\n",
    "fig = plt.figure(fig_margin=fig_margin)\n",
    "plt.scales(scales={'x': bq.DateScale(), 'y': bq.LinearScale()})\n",
    "\n",
    "line_plot = plt.Lines(\n",
    "    x=sel_data.index,\n",
    "    y=sel_data\n",
    ")\n",
    "plt.xlabel(x_ticker)\n",
    "plt.ylabel(y_ticker)\n",
    "\n",
    "def updateLines():\n",
    "    new_x = x_dropdown.value\n",
    "    new_y = y_dropdown.value\n",
    "\n",
    "    with line_plot.hold_sync():\n",
    "        update_cols = [new_y + '_2', new_y + '_3']\n",
    "        update_data = df.loc[df['test_period'] == new_x, update_cols]\n",
    "        line_plot.x = update_data.index\n",
    "        line_plot.y = update_data\n",
    "\n",
    "        plt.xlabel(new_x)\n",
    "        plt.ylabel(new_y)\n",
    "\n",
    "x_dropdown.observe(updateLines, 'value')\n",
    "y_dropdown.observe(updateLines, 'value')\n",
    "\n",
    "widgets.VBox([widgets.HBox([x_dropdown, y_dropdown]), fig])"
   ]
  }
 ],
 "metadata": {
  "kernelspec": {
   "display_name": "Python 3 (ipykernel)",
   "language": "python",
   "name": "python3"
  },
  "language_info": {
   "codemirror_mode": {
    "name": "ipython",
    "version": 3
   },
   "file_extension": ".py",
   "mimetype": "text/x-python",
   "name": "python",
   "nbconvert_exporter": "python",
   "pygments_lexer": "ipython3",
   "version": "3.11.3"
  }
 },
 "nbformat": 4,
 "nbformat_minor": 1
}
