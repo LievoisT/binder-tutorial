{
 "cells": [
  {
   "cell_type": "code",
   "execution_count": 4,
   "id": "32c13e4f-b841-40bb-b4b5-ca761c5d3cd9",
   "metadata": {
    "tags": []
   },
   "outputs": [],
   "source": [
    "import pandas as pd\n",
    "import numpy as np\n",
    "import bqplot as bq\n",
    "import bqplot.pyplot as plt\n",
    "from bqplot import LinearScale, Lines, Axis, Figure, DateScale, ColorScale"
   ]
  },
  {
   "cell_type": "code",
   "execution_count": 3,
   "id": "79967c62-c599-4808-a740-658404763213",
   "metadata": {
    "tags": []
   },
   "outputs": [],
   "source": [
    "df = pd.read_pickle('mergedDataFrame.pkl')"
   ]
  },
  {
   "cell_type": "code",
   "execution_count": 13,
   "id": "1d0b32d5-0fd2-4a2a-b4c9-bb9f0d421f9e",
   "metadata": {
    "tags": []
   },
   "outputs": [
    {
     "data": {
      "application/vnd.jupyter.widget-view+json": {
       "model_id": "baa3ae8df79c424bbb0cb79c5c7e6491",
       "version_major": 2,
       "version_minor": 0
      },
      "text/plain": [
       "VBox(children=(Figure(axes=[Axis(scale=DateScale()), Axis(orientation='vertical', scale=LinearScale())], fig_m…"
      ]
     },
     "metadata": {},
     "output_type": "display_data"
    }
   ],
   "source": [
    "fig = plt.figure(title='Field_1 R2')\n",
    "\n",
    "data = df.loc[df['test_period'] == 'Field_1']\n",
    "\n",
    "fig = plt.figure(title='Field 1 R2')\n",
    "plt.scales(scales={'x': DateScale()})\n",
    "\n",
    "line = plt.plot(\n",
    "    x=data.index,\n",
    "    y=[data['R2_2'], data['R2_3']],\n",
    "    labels=['Unit 2', 'Unit 3'],\n",
    "    display_legend=True\n",
    ")\n",
    "plt.show()"
   ]
  },
  {
   "cell_type": "code",
   "execution_count": 14,
   "id": "14ca70d0-ea2d-4ab7-b419-42fbd401fcf7",
   "metadata": {
    "tags": []
   },
   "outputs": [
    {
     "data": {
      "application/vnd.jupyter.widget-view+json": {
       "model_id": "cb7dd1fbdf79496a8c01931623ac983b",
       "version_major": 2,
       "version_minor": 0
      },
      "text/plain": [
       "VBox(children=(Figure(axes=[Axis(scale=DateScale()), Axis(orientation='vertical', scale=LinearScale())], fig_m…"
      ]
     },
     "metadata": {},
     "output_type": "display_data"
    }
   ],
   "source": [
    "fig = plt.figure(title='Field 1 R3')\n",
    "plt.scales(scales={'x': DateScale()})\n",
    "\n",
    "line = plt.plot(\n",
    "    x=data.index,\n",
    "    y=[data['R3_2'], data['R3_3']],\n",
    "    labels=['Unit 2', 'Unit 3'],\n",
    "    display_legend=True\n",
    ")\n",
    "plt.show()"
   ]
  }
 ],
 "metadata": {
  "kernelspec": {
   "display_name": "Python 3 (ipykernel)",
   "language": "python",
   "name": "python3"
  },
  "language_info": {
   "codemirror_mode": {
    "name": "ipython",
    "version": 3
   },
   "file_extension": ".py",
   "mimetype": "text/x-python",
   "name": "python",
   "nbconvert_exporter": "python",
   "pygments_lexer": "ipython3",
   "version": "3.10.9"
  }
 },
 "nbformat": 4,
 "nbformat_minor": 5
}
